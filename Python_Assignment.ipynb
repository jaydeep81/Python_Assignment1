{
  "nbformat": 4,
  "nbformat_minor": 0,
  "metadata": {
    "colab": {
      "provenance": []
    },
    "kernelspec": {
      "name": "python3",
      "display_name": "Python 3"
    },
    "language_info": {
      "name": "python"
    }
  },
  "cells": [
    {
      "cell_type": "code",
      "execution_count": null,
      "metadata": {
        "id": "QA6i-3tBK9uf"
      },
      "outputs": [],
      "source": []
    },
    {
      "cell_type": "markdown",
      "source": [
        "#Python Basics Questions"
      ],
      "metadata": {
        "id": "vMM7LUdGLbez"
      }
    },
    {
      "cell_type": "markdown",
      "source": [
        "1. What is Python, and why is it popular ?\n",
        "   - Python is a high-level, interpreted programming language known for its simplicity and readability. Created by Guido van Rossum in 1991, it is widely used for web development, data analysis, artificial intelligence, and more. Python's extensive libraries, such as NumPy and TensorFlow, and its large community support make it a popular choice among developers. Its cross-platform compatibility allows it to run on various operating systems, making it versatile and powerful.\n",
        "\n",
        "2. What is an interpreter in Python ?\n",
        "   - An interpreter in Python is a program that reads and executes Python code line by line. Unlike compiled languages, where the code is transformed into machine code before execution, Python's interpreter processes the code directly, allowing for immediate execution. This approach facilitates rapid development and debugging, as errors can be identified and corrected on the fly. The interpreter performs several tasks: it parses the code, converts it into an intermediate form, and then executes it. This makes Python a flexible and dynamic language, suitable for various applications ranging from web development to scientific computing\n",
        "\n",
        "3.  What are pre-defined keywords in Python ?\n",
        "    - Pre-defined keywords in Python are reserved words that have special meanings and cannot be used as identifiers. These keywords are part of the Python syntax and are used to define the structure and flow of the program. Here are some of the commonly used pre-defined keywords in Python : and, as, assert, break, class, continue, def, del, elif, else, except, False, finally, for, from, global, if, import, in, is, lambda, None, nonlocal, not, or, pass, raise, return, True, try, while, with, yield\n",
        "\n",
        "4.  Can keywords be used as variable names ?\n",
        "    - No, keywords in Python cannot be used as variable names. Keywords are reserved words that have special meanings in the language's syntax and are used to define the structure and flow of the program.\n",
        "\n",
        "5.  What is mutability in Python ?\n",
        "    - Mutability in Python refers to whether an object can be changed after it is created. Mutable objects, such as lists and dictionaries, can be modified, allowing you to add, remove, or change elements. In contrast, immutable objects, like strings and tuples, cannot be altered once they are created. If you need to change the contents of an object, you should use a mutable type, whereas if you want the object to remain unchanged\n",
        "\n",
        "6.  Why are lists mutable, but tuples are immutable ?\n",
        "    - Lists are mutable because they are designed to be flexible and allow changes. Tuples are immutable because they are meant to store fixed, unchangeable collections.\n",
        "\n",
        "7.  What is the difference between “==” and “is” operators in Python ?\n",
        "    - In Python, the == operator is used to compare the values of two objects to check if they are equal, meaning it evaluates whether the data within the objects is the same. On the other hand, the is operator checks whether two objects refer to the same memory location, essentially verifying if they are the exact same object. For example, two different lists with the same content would be considered equal using ==, but not identical using is, as they occupy different places in memory.\n",
        "\n",
        "8.  What are logical operators in Python ?\n",
        "    - Logical operators in Python are used to combine conditional statements. The three main logical operators are and, or, and not. The and operator returns True if both conditions are true, the or operator returns True if at least one condition is true, and the not operator inverts the result, returning False if the condition is true.\n",
        "\n",
        "9.  What is type casting in Python ?\n",
        "    - Type casting in Python refers to converting one data type to another. This can be done using built-in functions like int(), float(), str(), and list(). For example, you can convert a string to an integer using int(\"123\"), or a list to a string using str([1, 2, 3]). Type casting is useful when you need to perform operations that require specific data types.\n",
        "\n",
        "10. What is the difference between implicit and explicit type casting ?\n",
        "    - Implicit type casting, also known as coercion, is automatically performed by Python when it converts one data type to another without user intervention. For example, when you add an integer to a float, Python automatically converts the integer to a float. Explicit type casting, on the other hand, is done manually by the programmer using built-in functions like int(), float(), and str(). This is used when you need to convert data types intentionally, such as converting a string to an integer using int(\"123\").\n",
        "\n",
        "11. What is the purpose of conditional statements in Python ?\n",
        "    - Conditional statements in Python, such as if, elif, and else, are used to control the flow of a program by executing different blocks of code based on specific conditions. These statements allow the program to make decisions and respond dynamically to various scenarios.\n",
        "\n",
        "12. How does the elif statement work ?\n",
        "    - The elif statement in Python, short for \"else if,\" is used to check multiple conditions sequentially. If the initial if condition is false, the program evaluates the elif condition. If the elif condition is true, its block of code is executed. If it's false, the program can check additional elif conditions or proceed to the else block if present. This allows for efficient handling of multiple scenarios in a program. For example, if x is 10, the if condition might be false, but the elif condition could be true, leading to the execution of the corresponding code block.\n",
        "\n",
        "13. What is the difference between for and while loops ?\n",
        "    - Conditional statements in Python, such as if, elif, and else, control the flow of a program by executing different blocks of code based on specific conditions. The elif statement, short for \"else if,\" checks multiple conditions sequentially, allowing efficient handling of various scenarios. For loops iterate over a sequence and execute the block of code for each item, ideal for known iterations. While loops execute the block of code as long as a specified condition is true, suitable for unknown iterations dependent on a condition.\n",
        "\n",
        "14. Describe a scenario where a while loop is more suitable than a for loop ?\n",
        "    - A while loop is better than a for loop when you don't know how many times you'll need to repeat the code. For example, if you want to keep asking a user for input until they type \"exit\", a while loop is ideal because it keeps running based on the user's input, which is unpredictable.\n",
        "\n",
        "  "
      ],
      "metadata": {
        "id": "Tw3UiI0tL11t"
      }
    },
    {
      "cell_type": "code",
      "source": [
        "# Question 1. Write a Python program to print \"Hello, World!\n",
        "\n",
        "print(\"Hello, World!\")"
      ],
      "metadata": {
        "colab": {
          "base_uri": "https://localhost:8080/"
        },
        "id": "X5mBRp7PLt78",
        "outputId": "c1ec3482-91ba-4199-8114-06989c052389"
      },
      "execution_count": 2,
      "outputs": [
        {
          "output_type": "stream",
          "name": "stdout",
          "text": [
            "Hello, World!\n"
          ]
        }
      ]
    },
    {
      "cell_type": "code",
      "source": [
        "# Question 2. Write a Python program that displays your name and age\n",
        "\n",
        "name = \"Jaydeep Sawale\"\n",
        "age = 25\n",
        "print(f\"My name is {name} and I am {age} years old.\")\n"
      ],
      "metadata": {
        "colab": {
          "base_uri": "https://localhost:8080/"
        },
        "id": "_qISeAwMWeT0",
        "outputId": "2ed643ab-ae87-4383-8b92-e04cb3b4fcc1"
      },
      "execution_count": 1,
      "outputs": [
        {
          "output_type": "stream",
          "name": "stdout",
          "text": [
            "My name is Jaydeep Sawale and I am 25 years old.\n"
          ]
        }
      ]
    },
    {
      "cell_type": "code",
      "source": [
        "# Question 3. Write code to print all the pre-defined keywords in Python using the keyword library\n",
        "\n",
        "\n",
        "import keyword\n",
        "\n",
        "print(\"Python keywords:\")\n",
        "for keywlist in keyword.kwlist:\n",
        "  print(keywlist)\n",
        "\n",
        "\n"
      ],
      "metadata": {
        "colab": {
          "base_uri": "https://localhost:8080/"
        },
        "id": "X94JZFCFXMBN",
        "outputId": "a12b6684-81fc-46bf-a8b2-bebad82a3f94"
      },
      "execution_count": 6,
      "outputs": [
        {
          "output_type": "stream",
          "name": "stdout",
          "text": [
            "Python keywords:\n",
            "False\n",
            "None\n",
            "True\n",
            "and\n",
            "as\n",
            "assert\n",
            "async\n",
            "await\n",
            "break\n",
            "class\n",
            "continue\n",
            "def\n",
            "del\n",
            "elif\n",
            "else\n",
            "except\n",
            "finally\n",
            "for\n",
            "from\n",
            "global\n",
            "if\n",
            "import\n",
            "in\n",
            "is\n",
            "lambda\n",
            "nonlocal\n",
            "not\n",
            "or\n",
            "pass\n",
            "raise\n",
            "return\n",
            "try\n",
            "while\n",
            "with\n",
            "yield\n"
          ]
        }
      ]
    },
    {
      "cell_type": "code",
      "source": [
        "# Question 4. Write a program that checks if a given word is a Python keyword\n",
        "\n",
        "\n",
        "import keyword\n",
        "\n",
        "word = input(\"Enter a word: \")\n",
        "\n",
        "if keyword.iskeyword(word):\n",
        "  print(f\"'{word}' is a Python keyword.\")\n",
        "else:\n",
        "  print(f\"'{word}' is not a Python keyword.\")\n"
      ],
      "metadata": {
        "colab": {
          "base_uri": "https://localhost:8080/"
        },
        "id": "1vELAAygXZad",
        "outputId": "9af56bd8-c7c3-453e-d611-a1a93aada9ae"
      },
      "execution_count": 7,
      "outputs": [
        {
          "output_type": "stream",
          "name": "stdout",
          "text": [
            "Enter a word: nonlocal\n",
            "'nonlocal' is a Python keyword.\n"
          ]
        }
      ]
    },
    {
      "cell_type": "code",
      "source": [
        "# Question 5. Create a list and tuple in Python, and demonstrate how attempting to change an element works differently for each\n",
        "\n",
        "\n",
        "\n",
        "# Creating a list and a tuple\n",
        "my_list = [1, 2, 3]\n",
        "my_tuple = (1, 2, 3)\n",
        "\n",
        "# Attempting to change an element in the list\n",
        "my_list[1] = 20\n",
        "print(\"Updated list:\", my_list)\n",
        "\n",
        "# Attempting to change an element in the tuple\n",
        "try:\n",
        "  my_tuple[1] = 20\n",
        "except TypeError as e:\n",
        "  print(\"Error:\", e)\n"
      ],
      "metadata": {
        "colab": {
          "base_uri": "https://localhost:8080/"
        },
        "id": "TeGkPBL8YcF0",
        "outputId": "35cb29ae-b5ea-4a99-abd0-ab82d23a24d1"
      },
      "execution_count": 9,
      "outputs": [
        {
          "output_type": "stream",
          "name": "stdout",
          "text": [
            "Updated list: [1, 20, 3]\n",
            "Error: 'tuple' object does not support item assignment\n"
          ]
        }
      ]
    },
    {
      "cell_type": "code",
      "source": [
        "# Question 6.  Write a function to demonstrate the behavior of mutable and immutable arguments\n",
        "\n",
        "\n",
        "def modify_arguments(mutable_list, immutable_tuple):\n",
        "  # Modify the mutable list\n",
        "  mutable_list[0] = 'changed'\n",
        "\n",
        "  # Attempt to modify the immutable tuple\n",
        "  try:\n",
        "    immutable_tuple[0] = 'changed'\n",
        "  except TypeError as e:\n",
        "    print(\"Error:\", e)\n",
        "\n",
        "# Create a list and a tuple\n",
        "my_list = [1, 2, 3]\n",
        "my_tuple = (1, 2, 3)\n",
        "\n",
        "# Call the function with the list and tuple\n",
        "modify_arguments(my_list, my_tuple)\n",
        "\n",
        "# Print the results\n",
        "print(\"List after modification:\", my_list)\n",
        "print(\"Tuple after modification attempt:\", my_tuple)\n"
      ],
      "metadata": {
        "colab": {
          "base_uri": "https://localhost:8080/"
        },
        "id": "ef_Ny974Z68K",
        "outputId": "9dbd9bde-a41c-48f7-9a1e-74b1500fd8fe"
      },
      "execution_count": 10,
      "outputs": [
        {
          "output_type": "stream",
          "name": "stdout",
          "text": [
            "Error: 'tuple' object does not support item assignment\n",
            "List after modification: ['changed', 2, 3]\n",
            "Tuple after modification attempt: (1, 2, 3)\n"
          ]
        }
      ]
    },
    {
      "cell_type": "code",
      "source": [
        "# Question 7.  Write a program that performs basic arithmetic operations on two user-input numbers.\n",
        "\n",
        "\n",
        "# Get user input for two numbers\n",
        "num1 = float(input(\"Enter the first number: \"))\n",
        "num2 = float(input(\"Enter the second number: \"))\n",
        "\n",
        "# Perform arithmetic operations\n",
        "addition = num1 + num2\n",
        "subtraction = num1 - num2\n",
        "multiplication = num1 * num2\n",
        "division = num1 / num2 if num2 != 0 else \"undefined (division by zero)\"\n",
        "\n",
        "# Display the results\n",
        "print(f\"{num1} + {num2} = {addition}\")\n",
        "print(f\"{num1} - {num2} = {subtraction}\")\n",
        "print(f\"{num1} * {num2} = {multiplication}\")\n",
        "print(f\"{num1} / {num2} = {division}\")\n"
      ],
      "metadata": {
        "colab": {
          "base_uri": "https://localhost:8080/"
        },
        "id": "DdNTDr1JcrgA",
        "outputId": "e1e7fc5e-f942-4308-c134-bf9bf03813d9"
      },
      "execution_count": 11,
      "outputs": [
        {
          "output_type": "stream",
          "name": "stdout",
          "text": [
            "Enter the first number: 100\n",
            "Enter the second number: 55\n",
            "100.0 + 55.0 = 155.0\n",
            "100.0 - 55.0 = 45.0\n",
            "100.0 * 55.0 = 5500.0\n",
            "100.0 / 55.0 = 1.8181818181818181\n"
          ]
        }
      ]
    },
    {
      "cell_type": "code",
      "source": [
        "# Question 8.  Write a program to demonstrate the use of logical operators\n",
        "\n",
        "\n",
        "# Get user input for two boolean values\n",
        "bool1 = input(\"Enter the first boolean value (True/False): \").strip().capitalize() == \"True\"\n",
        "bool2 = input(\"Enter the second boolean value (True/False): \").strip().capitalize() == \"True\"\n",
        "\n",
        "# Demonstrate logical operators\n",
        "and_result = bool1 and bool2\n",
        "or_result = bool1 or bool2\n",
        "not_result1 = not bool1\n",
        "not_result2 = not bool2\n",
        "\n",
        "# Display the results\n",
        "print(f\"{bool1} and {bool2} = {and_result}\")\n",
        "print(f\"{bool1} or {bool2} = {or_result}\")\n",
        "print(f\"not {bool1} = {not_result1}\")\n",
        "print(f\"not {bool2} = {not_result2}\")\n"
      ],
      "metadata": {
        "colab": {
          "base_uri": "https://localhost:8080/"
        },
        "id": "PapHkE9ZdK4P",
        "outputId": "44578cb2-2c6d-4750-abbc-bbf1060502ff"
      },
      "execution_count": 12,
      "outputs": [
        {
          "output_type": "stream",
          "name": "stdout",
          "text": [
            "Enter the first boolean value (True/False): True\n",
            "Enter the second boolean value (True/False): False\n",
            "True and False = False\n",
            "True or False = True\n",
            "not True = False\n",
            "not False = True\n"
          ]
        }
      ]
    },
    {
      "cell_type": "code",
      "source": [
        "# Question 9. Write a Python program to convert user input from string to integer, float, and boolean types\n",
        "\n",
        "\n",
        "# Get user input as a string\n",
        "user_input = input(\"Enter a value: \")\n",
        "\n",
        "# Convert to integer\n",
        "try:\n",
        "  int_value = int(user_input)\n",
        "  print(f\"Integer: {int_value}\")\n",
        "except ValueError:\n",
        "  print(\"Cannot convert to integer\")\n",
        "\n",
        "# Convert to float\n",
        "try:\n",
        "  float_value = float(user_input)\n",
        "  print(f\"Float: {float_value}\")\n",
        "except ValueError:\n",
        "  print(\"Cannot convert to float\")\n",
        "\n",
        "# Convert to boolean\n",
        "bool_value = user_input.strip().lower() in [\"true\", \"1\", \"yes\"]\n",
        "print(f\"Boolean: {bool_value}\")\n"
      ],
      "metadata": {
        "colab": {
          "base_uri": "https://localhost:8080/"
        },
        "id": "gCXCwwu0dg2f",
        "outputId": "d022e23e-29e0-4bb8-95a8-dd70f96c5ee6"
      },
      "execution_count": 13,
      "outputs": [
        {
          "output_type": "stream",
          "name": "stdout",
          "text": [
            "Enter a value: 54\n",
            "Integer: 54\n",
            "Float: 54.0\n",
            "Boolean: False\n"
          ]
        }
      ]
    },
    {
      "cell_type": "code",
      "source": [
        "# Question 10. Write code to demonstrate type casting with list elements.\n",
        "\n",
        "\n",
        "# Original list with mixed types as strings\n",
        "original_list = [\"1\", \"2.5\", \"True\", \"False\", \"3\"]\n",
        "\n",
        "# Convert elements to their respective types\n",
        "int_list = [int(item) for item in original_list if item.isdigit()]\n",
        "float_list = [float(item) for item in original_list if item.replace('.', '', 1).isdigit()]\n",
        "bool_list = [item.lower() == \"true\" for item in original_list if item.lower() in [\"true\", \"false\"]]\n",
        "\n",
        "# Display the results\n",
        "print(\"Original list:\", original_list)\n",
        "print(\"Integer list:\", int_list)\n",
        "print(\"Float list:\", float_list)\n",
        "print(\"Boolean list:\", bool_list)\n"
      ],
      "metadata": {
        "colab": {
          "base_uri": "https://localhost:8080/"
        },
        "id": "hyDovMt7emiH",
        "outputId": "5cfbf879-025a-4993-d1b9-e88b158bf0bc"
      },
      "execution_count": 14,
      "outputs": [
        {
          "output_type": "stream",
          "name": "stdout",
          "text": [
            "Original list: ['1', '2.5', 'True', 'False', '3']\n",
            "Integer list: [1, 3]\n",
            "Float list: [1.0, 2.5, 3.0]\n",
            "Boolean list: [True, False]\n"
          ]
        }
      ]
    },
    {
      "cell_type": "code",
      "source": [
        "# Question 11. Write a program that checks if a number is positive, negative, or zero\n",
        "\n",
        "\n",
        "# Get user input for a number\n",
        "num = float(input(\"Enter a number: \"))\n",
        "\n",
        "# Check if the number is positive, negative, or zero\n",
        "if num > 0:\n",
        "  print(\"The number is positive.\")\n",
        "elif num < 0:\n",
        "  print(\"The number is negative.\")\n",
        "else:\n",
        "  print(\"The number is zero.\")\n"
      ],
      "metadata": {
        "colab": {
          "base_uri": "https://localhost:8080/"
        },
        "id": "svzNXM9qe24A",
        "outputId": "ffdbdaa8-e0f0-4554-d19e-a984751fb255"
      },
      "execution_count": 15,
      "outputs": [
        {
          "output_type": "stream",
          "name": "stdout",
          "text": [
            "Enter a number: 154\n",
            "The number is positive.\n"
          ]
        }
      ]
    },
    {
      "cell_type": "code",
      "source": [
        "# Question 12. Write a for loop to print numbers from 1 to 10\n",
        "\n",
        "\n",
        "for i in range(1, 11):\n",
        "  print(i)\n"
      ],
      "metadata": {
        "colab": {
          "base_uri": "https://localhost:8080/"
        },
        "id": "yqUZ9lTRfLeC",
        "outputId": "b30ee903-adc5-4022-a092-08baae1ea77d"
      },
      "execution_count": 16,
      "outputs": [
        {
          "output_type": "stream",
          "name": "stdout",
          "text": [
            "1\n",
            "2\n",
            "3\n",
            "4\n",
            "5\n",
            "6\n",
            "7\n",
            "8\n",
            "9\n",
            "10\n"
          ]
        }
      ]
    },
    {
      "cell_type": "code",
      "source": [
        "# Question 13.  Write a Python program to find the sum of all even numbers between 1 and 50.\n",
        "\n",
        "\n",
        "# Initialize the sum variable\n",
        "sum_even_numbers = 0\n",
        "\n",
        "# Iterate over the range from 1 to 50\n",
        "for i in range(1, 51):\n",
        "  # Check if the number is even\n",
        "  if i % 2 == 0:\n",
        "    # Add the even number to the sum\n",
        "    sum_even_numbers += i\n",
        "\n",
        "# Print the result\n",
        "print(f\"The sum of all even numbers between 1 and 50 is: {sum_even_numbers}\")\n"
      ],
      "metadata": {
        "colab": {
          "base_uri": "https://localhost:8080/"
        },
        "id": "PRQItgZof9o0",
        "outputId": "c9c810a9-545f-410f-88e2-c18bda2c5a3e"
      },
      "execution_count": 17,
      "outputs": [
        {
          "output_type": "stream",
          "name": "stdout",
          "text": [
            "The sum of all even numbers between 1 and 50 is: 650\n"
          ]
        }
      ]
    },
    {
      "cell_type": "code",
      "source": [
        "# Question 14.  Write a program to reverse a string using a while loop\n",
        "\n",
        "\n",
        "# Get user input for a string\n",
        "original_string = input(\"Enter a string: \")\n",
        "\n",
        "# Initialize variables\n",
        "reversed_string = \"\"\n",
        "index = len(original_string) - 1\n",
        "\n",
        "# Use a while loop to reverse the string\n",
        "while index >= 0:\n",
        "  reversed_string += original_string[index]\n",
        "  index -= 1\n",
        "\n",
        "# Print the reversed string\n",
        "print(f\"Reversed string: {reversed_string}\")\n"
      ],
      "metadata": {
        "colab": {
          "base_uri": "https://localhost:8080/"
        },
        "id": "Y08oCpPsgoCc",
        "outputId": "abce7a8b-1606-417f-e273-b45aed835183"
      },
      "execution_count": 18,
      "outputs": [
        {
          "output_type": "stream",
          "name": "stdout",
          "text": [
            "Enter a string: Python\n",
            "Reversed string: nohtyP\n"
          ]
        }
      ]
    },
    {
      "cell_type": "code",
      "source": [
        "# Question 15.  Write a Python program to calculate the factorial of a number provided by the user using a while loop\n",
        "\n",
        "\n",
        "num = int(input(\"Enter a number: \"))\n",
        "\n",
        "# Initialize variables\n",
        "factorial = 1\n",
        "i = num\n",
        "\n",
        "# Use a while loop to calculate the factorial\n",
        "while i > 0:\n",
        "  factorial *= i\n",
        "  i -= 1\n",
        "\n",
        "# Print the result\n",
        "print(f\"The factorial of {num} is: {factorial}\")\n"
      ],
      "metadata": {
        "colab": {
          "base_uri": "https://localhost:8080/"
        },
        "id": "LDpMzKw5g6uM",
        "outputId": "a96caa6a-0d26-4804-f556-d5160858d72d"
      },
      "execution_count": 20,
      "outputs": [
        {
          "output_type": "stream",
          "name": "stdout",
          "text": [
            "Enter a number: 15\n",
            "The factorial of 15 is: 1307674368000\n"
          ]
        }
      ]
    }
  ]
}